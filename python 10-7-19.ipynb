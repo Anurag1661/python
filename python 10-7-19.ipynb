{
 "cells": [
  {
   "cell_type": "markdown",
   "metadata": {},
   "source": [
    "### tuples\n",
    "- t1 parenthesis() li square brackets[]\n",
    "- difference between list and tuples\n",
    "  - lists are mutable - can be changed/modified\n",
    "    - used to access modify add delete data\n",
    "  - tuples are immutable - cannot be changed\n",
    "    - used to access data only"
   ]
  },
  {
   "cell_type": "code",
   "execution_count": 5,
   "metadata": {},
   "outputs": [
    {
     "data": {
      "text/plain": [
       "tuple"
      ]
     },
     "execution_count": 5,
     "metadata": {},
     "output_type": "execute_result"
    }
   ],
   "source": [
    "t1= (1,2,3,4,5,6)\n",
    "t1\n",
    "type(t1)"
   ]
  },
  {
   "cell_type": "markdown",
   "metadata": {},
   "source": [
    "data structure\n",
    "- dictionaries"
   ]
  },
  {
   "cell_type": "code",
   "execution_count": null,
   "metadata": {},
   "outputs": [],
   "source": []
  },
  {
   "cell_type": "code",
   "execution_count": null,
   "metadata": {},
   "outputs": [],
   "source": []
  },
  {
   "cell_type": "code",
   "execution_count": null,
   "metadata": {},
   "outputs": [],
   "source": []
  },
  {
   "cell_type": "code",
   "execution_count": null,
   "metadata": {},
   "outputs": [],
   "source": []
  },
  {
   "cell_type": "code",
   "execution_count": null,
   "metadata": {},
   "outputs": [],
   "source": []
  },
  {
   "cell_type": "code",
   "execution_count": null,
   "metadata": {},
   "outputs": [],
   "source": []
  },
  {
   "cell_type": "code",
   "execution_count": null,
   "metadata": {},
   "outputs": [],
   "source": []
  },
  {
   "cell_type": "markdown",
   "metadata": {},
   "source": [
    "### contact application\n",
    "- add contact\n",
    "- search the contact\n",
    "- list all contacts\n",
    "  - name1: phone1\n",
    "  - name2: phone2\n",
    "- modify the contact\n",
    "- remove the contact\n",
    "- import the contact"
   ]
  },
  {
   "cell_type": "code",
   "execution_count": 12,
   "metadata": {},
   "outputs": [
    {
     "name": "stdout",
     "output_type": "stream",
     "text": [
      "contact's details are valid\n",
      "contact's details are valid\n",
      "contact details already exist\n"
     ]
    }
   ],
   "source": [
    "#add contact\n",
    "contact = {} #creating a dictionary object\n",
    "def addcontact(name,phone):\n",
    "    if name not in contact:\n",
    "        contact[name]=phone\n",
    "        print(\"contact's details are valid\")\n",
    "    else:\n",
    "        print(\"contact details already exist\")\n",
    "    return\n",
    "addcontact('neha','7032906277')\n",
    "addcontact('aneesha','5599283456')\n",
    "addcontact('neha','7032906277')"
   ]
  },
  {
   "cell_type": "code",
   "execution_count": 14,
   "metadata": {},
   "outputs": [
    {
     "name": "stdout",
     "output_type": "stream",
     "text": [
      "neha  :  7032906277\n",
      "aneesha  :  5599283456\n",
      "pikachu does not exist\n"
     ]
    }
   ],
   "source": [
    "#search for contact \n",
    "def contactdetails(name):\n",
    "    if name in contact:\n",
    "        print(name,\" : \",contact[name])\n",
    "    else:\n",
    "        print(\"%s does not exist\" % name)\n",
    "    return\n",
    "contactdetails(\"neha\")\n",
    "contactdetails(\"aneesha\")\n",
    "contactdetails(\"pikachu\")"
   ]
  },
  {
   "cell_type": "code",
   "execution_count": 15,
   "metadata": {},
   "outputs": [
    {
     "name": "stdout",
     "output_type": "stream",
     "text": [
      "2 contacts are added successfully\n"
     ]
    }
   ],
   "source": [
    "#import some contacts\n",
    "#merge the contacts with existing one\n",
    "def importcontacts(newcontact):\n",
    "    contact.update(newcontact)\n",
    "    print(len(newcontact.keys()),\"contacts are added successfully\")\n",
    "    return\n",
    "newcontact={'munnu':1324567890,'neha':7032906277}\n",
    "importcontacts(newcontact)"
   ]
  },
  {
   "cell_type": "code",
   "execution_count": 20,
   "metadata": {},
   "outputs": [
    {
     "name": "stdout",
     "output_type": "stream",
     "text": [
      "aneesha name does not exist\n"
     ]
    }
   ],
   "source": [
    "#delete a contact\n",
    "def deletecontact(name):\n",
    "    if name in contact:\n",
    "        del contact[name]\n",
    "        print(name, \"deleted successfully\")\n",
    "    else:\n",
    "        print(name,'name does not exist')\n",
    "    return\n",
    "deletecontact('aneesha')"
   ]
  },
  {
   "cell_type": "code",
   "execution_count": 25,
   "metadata": {},
   "outputs": [
    {
     "name": "stdout",
     "output_type": "stream",
     "text": [
      "neha updated successfully\n",
      "hellboy name does not exist\n"
     ]
    }
   ],
   "source": [
    "#update the contact details\n",
    "def deletecontact(name,phone):\n",
    "    if name in contact:\n",
    "        contact[name]=phone\n",
    "        print(name,\"updated successfully\")\n",
    "    else:\n",
    "        print(name,\"name does not exist\")\n",
    "    return\n",
    "deletecontact('neha',8899283096)\n",
    "deletecontact('hellboy',7830282041)      "
   ]
  },
  {
   "cell_type": "code",
   "execution_count": 31,
   "metadata": {},
   "outputs": [
    {
     "name": "stdout",
     "output_type": "stream",
     "text": [
      "89 55 34 21 13 8 5 3 2 1 1 0 "
     ]
    }
   ],
   "source": [
    "#fibonacci series\n",
    "def reverseFibonacci(n): \n",
    "    a = [0] * n  \n",
    "  # assigning first and second elements \n",
    "    a[0] = 0 \n",
    "    a[1] = 1 \n",
    "    for i in range(2, n):   \n",
    "   # storing sum in the \n",
    "   # preceding location \n",
    "        a[i] = a[i - 2] + a[i - 1]  \n",
    "    for i in range(n - 1, -1 , -1):   \n",
    "  # printing array in \n",
    "  # reverse order \n",
    "        print(a[i],end=\" \")  \n",
    "        # Driver function \n",
    "n = 12\n",
    "reverseFibonacci(n) \n",
    "       \n",
    "   "
   ]
  },
  {
   "cell_type": "code",
   "execution_count": 8,
   "metadata": {},
   "outputs": [
    {
     "name": "stdout",
     "output_type": "stream",
     "text": [
      "1 3 9 27 81 243 729 2187 6561 19683 "
     ]
    }
   ],
   "source": [
    "#series\n",
    "def threepow(n):\n",
    "   for i in range(n):\n",
    "      k=3**i\n",
    "      print(k,end=\" \")\n",
    "   return\n",
    "threepow(10)\n"
   ]
  },
  {
   "cell_type": "code",
   "execution_count": 9,
   "metadata": {},
   "outputs": [
    {
     "name": "stdout",
     "output_type": "stream",
     "text": [
      "1 2 4 8 16 32 64 128 256 512 "
     ]
    }
   ],
   "source": [
    "def twopow(n):\n",
    "   for i in range(n):\n",
    "      k=2**i\n",
    "      print(k,end=\" \")\n",
    "   return\n",
    "twopow(10)\n"
   ]
  },
  {
   "cell_type": "code",
   "execution_count": 28,
   "metadata": {},
   "outputs": [
    {
     "ename": "SyntaxError",
     "evalue": "invalid syntax (<ipython-input-28-51f98653b737>, line 9)",
     "output_type": "error",
     "traceback": [
      "\u001b[1;36m  File \u001b[1;32m\"<ipython-input-28-51f98653b737>\"\u001b[1;36m, line \u001b[1;32m9\u001b[0m\n\u001b[1;33m    while i=j:\u001b[0m\n\u001b[1;37m           ^\u001b[0m\n\u001b[1;31mSyntaxError\u001b[0m\u001b[1;31m:\u001b[0m invalid syntax\n"
     ]
    }
   ],
   "source": [
    "string1=(\"bad\")\n",
    "string2=(\"water\")\n",
    "count1=0\n",
    "count2=0\n",
    "for i in string1:\n",
    "      count1=count1+1\n",
    "for j in string2:\n",
    "      count2=count2+1\n",
    "while i=j:\n",
    "    print(string)\n"
   ]
  },
  {
   "cell_type": "code",
   "execution_count": 26,
   "metadata": {},
   "outputs": [
    {
     "name": "stdout",
     "output_type": "stream",
     "text": [
      "1!+2!+3!+4!+5!+6!+7!+8!+"
     ]
    }
   ],
   "source": [
    "#individual digits factorial sum\n",
    "def sum(n):\n",
    "   for i in range(1,n+1):\n",
    "       fact=1\n",
    "       if i<=n:\n",
    "           print(i,end=\"!+\")\n",
    "   return \n",
    "sum(8)\n"
   ]
  },
  {
   "cell_type": "code",
   "execution_count": null,
   "metadata": {},
   "outputs": [],
   "source": []
  }
 ],
 "metadata": {
  "kernelspec": {
   "display_name": "Python 3",
   "language": "python",
   "name": "python3"
  },
  "language_info": {
   "codemirror_mode": {
    "name": "ipython",
    "version": 3
   },
   "file_extension": ".py",
   "mimetype": "text/x-python",
   "name": "python",
   "nbconvert_exporter": "python",
   "pygments_lexer": "ipython3",
   "version": "3.7.3"
  }
 },
 "nbformat": 4,
 "nbformat_minor": 2
}
